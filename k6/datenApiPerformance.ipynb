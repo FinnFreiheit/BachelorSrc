{
 "cells": [
  {
   "cell_type": "markdown",
   "metadata": {},
   "source": [
    "import sys\n",
    "!{sys.executable} -m pip install pandas\n"
   ]
  },
  {
   "cell_type": "code",
   "execution_count": 8,
   "metadata": {},
   "outputs": [],
   "source": [
    "import pandas as pd\n",
    "import matplotlib.pyplot as plt\n",
    "import numpy"
   ]
  },
  {
   "cell_type": "markdown",
   "metadata": {},
   "source": [
    "# Untersuchung der Leistungsfähigkeit der Schnittstelle. \n",
    "\n",
    "### Im folgendem werden die Daten des Performanz-Tests durch K6 ausgewertet und visualisiert. "
   ]
  },
  {
   "cell_type": "code",
   "execution_count": 9,
   "metadata": {},
   "outputs": [],
   "source": [
    "class kData:\n",
    "\n",
    "    def __init__(self, url):\n",
    "        self.df = pd.read_csv(url)\n",
    "        self.iterationDuration = self.df.loc[self.df[\"metric_name\"] == \"iteration_duration\"]\n",
    "        self.checks = self.df.loc[self.df[\"metric_name\"] == \"checks\"]\n",
    "        self.vus = self.df.loc[self.df[\"metric_name\"] == \"vus\"]\n",
    "\n",
    "    \n",
    "    def plotVusIterDuraError(self, title):\n",
    "        fig = plt.figure()\n",
    "        fig.set_figheight(10)\n",
    "        fig.set_figwidth(15)\n",
    "\n",
    " \n",
    "        ax1 = fig.add_subplot(3,1,1)\n",
    "        ax1.set_title(\"iteration duration\")\n",
    "        ax1.set_xlabel(\"timestamp\")\n",
    "        ax1.set_ylabel(\"iteration duration(ms)\")\n",
    "        ax1.plot(self.iterationDuration[\"timestamp\"], self.iterationDuration[\"metric_value\"])\n",
    "\n",
    "\n",
    "\n",
    "        ax2 = fig.add_subplot(3,1,2)\n",
    "        ax2.set_title(\"errors\")\n",
    "        ax2.set_xlabel(\"timestamp\")\n",
    "        ax2.plot(self.checks[\"timestamp\"], self.checks[\"metric_value\"])\n",
    "\n",
    "        ax3 = fig.add_subplot(3,1,3)\n",
    "        ax3.set_title(\"virtuel users\")\n",
    "        ax3.set_xlabel(\"timestamp\")\n",
    "        ax3.plot(self.vus[\"timestamp\"], self.vus[\"metric_value\"])\n",
    "\n",
    "        fig.tight_layout()\n",
    "        plt.show()\n",
    "\n",
    "\n",
    "    def BoxPlot(self):\n",
    "        fig = plt.figure()\n",
    "        fig.set_figheight(10)\n",
    "        ax2 = fig.add_subplot(1,2,2)\n",
    "        ax2.set_ylabel(\"iteration duration(ms)\")\n",
    "        ax2.boxplot(self.iterationDuration[\"metric_value\"],vert=True, sym=\"\")\n",
    "        ax2.set_xticks([])\n",
    "    \n",
    "        ax1 = fig.add_subplot(1,2,1)\n",
    "        ax1.violinplot(self.iterationDuration[\"metric_value\"], quantiles=[0.9,0.95,0.99])\n",
    "        ax1.set_ylabel(\"iteration duration(ms)\")\n",
    "        ax1.set_xticks([])\n",
    "        fig.tight_layout()\n",
    "        plt.show()\n",
    "\n",
    "    def Percentile(self, quant):\n",
    "        iterdura = self.iterationDuration[\"metric_value\"].array\n",
    "        p = numpy.percentile(iterdura, quant)\n",
    "        print(p)\n",
    "        "
   ]
  },
  {
   "cell_type": "code",
   "execution_count": 10,
   "metadata": {},
   "outputs": [
    {
     "name": "stderr",
     "output_type": "stream",
     "text": [
      "/var/folders/pf/nm0l7jf15714j6p5pctmbwg80000gn/T/ipykernel_17047/1306051723.py:4: DtypeWarning: Columns (4) have mixed types. Specify dtype option on import or set low_memory=False.\n",
      "  self.df = pd.read_csv(url)\n"
     ]
    }
   ],
   "source": [
    "stress = kData(\"stress.csv\")"
   ]
  },
  {
   "cell_type": "code",
   "execution_count": null,
   "metadata": {},
   "outputs": [],
   "source": [
    "stress.plotVusIterDuraError(\"Stress\")"
   ]
  }
 ],
 "metadata": {
  "interpreter": {
   "hash": "b0fa6594d8f4cbf19f97940f81e996739fb7646882a419484c72d19e05852a7e"
  },
  "kernelspec": {
   "display_name": "Python 3.9.12 64-bit",
   "language": "python",
   "name": "python3"
  },
  "language_info": {
   "codemirror_mode": {
    "name": "ipython",
    "version": 3
   },
   "file_extension": ".py",
   "mimetype": "text/x-python",
   "name": "python",
   "nbconvert_exporter": "python",
   "pygments_lexer": "ipython3",
   "version": "3.9.12"
  },
  "orig_nbformat": 4
 },
 "nbformat": 4,
 "nbformat_minor": 2
}
